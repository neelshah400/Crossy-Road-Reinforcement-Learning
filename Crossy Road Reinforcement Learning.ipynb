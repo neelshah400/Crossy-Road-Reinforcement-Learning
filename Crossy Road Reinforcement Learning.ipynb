{
 "cells": [
  {
   "cell_type": "code",
   "execution_count": null,
   "metadata": {},
   "outputs": [],
   "source": [
    "print(\"Hello World\")"
   ]
  },
  {
   "cell_type": "code",
   "execution_count": null,
   "metadata": {},
   "outputs": [],
   "source": [
    "print(3 + 3)"
   ]
  }
 ],
 "metadata": {
  "authors": [
   {
    "email": "neelshah@terpmail.umd.edu",
    "name": "Neel Shah"
   },
   {
    "email": "aabagri@terpmail.umd.edu",
    "name": "Anish Bagri"
   },
   {
    "email": "nsankar@terpmail.umd.edu",
    "name": "Nathan Sankar"
   },
   {
    "email": "agokaram@terpmail.umd.edu",
    "name": "Akul Gokaram"
   },
   {
    "email": "asharda@terpmail.umd.edu",
    "name": "Aditya Sharda"
   }
  ],
  "date": "May 7, 2024",
  "kernelspec": {
   "display_name": ".venv",
   "language": "python",
   "name": "python3"
  },
  "language_info": {
   "name": "python",
   "version": "3.12.1"
  },
  "title": "Crossy Road Reinforcement Learning"
 },
 "nbformat": 4,
 "nbformat_minor": 2
}
