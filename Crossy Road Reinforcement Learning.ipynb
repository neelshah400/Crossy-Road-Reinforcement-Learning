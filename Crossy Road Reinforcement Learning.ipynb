{
 "cells": [
  {
   "cell_type": "markdown",
   "metadata": {},
   "source": [
    "# Introduction\n"
   ]
  },
  {
   "cell_type": "markdown",
   "metadata": {},
   "source": [
    "[Crossy Road](https://www.crossyroad.com/) is an arcade video game built around the age-old joke \"Why did the chicken cross the road?\" In the game, the chicken (controlled by the player) has to cross the road without getting hit by vehicles.\n",
    "\n",
    "We want to develop a reinforcement learning (RL) game agent capable of playing Crossy Road. The game’s endless and random nature makes it a great candidate for RL.\n",
    "\n",
    "The agent will learn to maximize its score by getting the chicken to cross the road and avoid obstacles in its path, with the ultimate goal of crossing the road as many times as possible without collisions. Once the agent is capable of successfully getting the chicken to cross the road and reach the goal position, another goal could be to minimize the time it takes for the chicken to cross the road.\n"
   ]
  },
  {
   "cell_type": "markdown",
   "metadata": {},
   "source": [
    "# Configuration\n"
   ]
  },
  {
   "cell_type": "markdown",
   "metadata": {},
   "source": [
    "We'll start by importing the [Python](https://www.python.org/) libraries necessary for this project and configuring some things.\n"
   ]
  },
  {
   "cell_type": "code",
   "execution_count": 2,
   "metadata": {},
   "outputs": [],
   "source": []
  },
  {
   "cell_type": "markdown",
   "metadata": {},
   "source": [
    "# Crossy Road Environment\n"
   ]
  },
  {
   "cell_type": "markdown",
   "metadata": {},
   "source": [
    "# Reinforcement Learning\n"
   ]
  },
  {
   "cell_type": "markdown",
   "metadata": {},
   "source": [
    "# Conclusion\n"
   ]
  }
 ],
 "metadata": {
  "authors": [
   {
    "email": "neelshah@terpmail.umd.edu",
    "name": "Neel Shah"
   },
   {
    "email": "aabagri@terpmail.umd.edu",
    "name": "Anish Bagri"
   },
   {
    "email": "nsankar@terpmail.umd.edu",
    "name": "Nathan Sankar"
   },
   {
    "email": "agokaram@terpmail.umd.edu",
    "name": "Akul Gokaram"
   },
   {
    "email": "asharda@terpmail.umd.edu",
    "name": "Aditya Sharda"
   }
  ],
  "date": "May 7, 2024",
  "kernelspec": {
   "display_name": ".venv",
   "language": "python",
   "name": "python3"
  },
  "language_info": {
   "codemirror_mode": {
    "name": "ipython",
    "version": 3
   },
   "file_extension": ".py",
   "mimetype": "text/x-python",
   "name": "python",
   "nbconvert_exporter": "python",
   "pygments_lexer": "ipython3",
   "version": "3.12.1"
  },
  "title": "Crossy Road Reinforcement Learning"
 },
 "nbformat": 4,
 "nbformat_minor": 2
}
